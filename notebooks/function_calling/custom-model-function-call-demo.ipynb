{
 "cells": [
  {
   "cell_type": "markdown",
   "metadata": {},
   "source": [
    "# Custom Model Function Calling Evaluation Demo\n",
    "\n",
    "**🎯 Goal**:\n",
    "- Run a function calling evaluation in Okareo.\n",
    "- Provide a simple introduction to Okareo evaluations.\n",
    "\n",
    "**📋 Steps**:\n",
    "1. Upload a function calling scenario.\n",
    "2. Define a custom model to generate the function calls\n",
    "3. Run the evaluation using the scenario (from #1) + model (from #2) along with a check to measure function call accuracy."
   ]
  },
  {
   "cell_type": "code",
   "execution_count": null,
   "metadata": {},
   "outputs": [],
   "source": [
    "# install okareo\n",
    "%pip install okareo"
   ]
  },
  {
   "cell_type": "code",
   "execution_count": 1,
   "metadata": {},
   "outputs": [],
   "source": [
    "import os\n",
    "\n",
    "# get Okareo client\n",
    "from okareo import Okareo\n",
    "\n",
    "OKAREO_API_KEY = os.environ.get(\"OKAREO_API_KEY\")\n",
    "if not OKAREO_API_KEY:\n",
    "    raise ValueError(\"OKAREO_API_KEY environment variable is not set\")\n",
    "okareo = Okareo(OKAREO_API_KEY)"
   ]
  },
  {
   "cell_type": "markdown",
   "metadata": {},
   "source": [
    "Upload a simple scenario. Each row of the `seed_data` should contain:\n",
    "\n",
    "- `input_`: query to the agent.\n",
    "- `result`: the expected function call that answers the query.\n",
    "\n",
    "Note: In the `result` function call, the `__required` key is an Okareo-specific key needed to use the `are_required_params_present` check. "
   ]
  },
  {
   "cell_type": "code",
   "execution_count": 53,
   "metadata": {},
   "outputs": [
    {
     "name": "stdout",
     "output_type": "stream",
     "text": [
      "http://localhost:3000/project/cb832f0d-0e3d-4bed-9d9c-023441ec9dd5/scenario/6ae97dad-dfd0-4a75-b4e2-db1c6a6ef634\n"
     ]
    }
   ],
   "source": [
    "import random\n",
    "import string\n",
    "\n",
    "from okareo_api_client.models.scenario_set_create import ScenarioSetCreate\n",
    "from okareo_api_client.models.seed_data import SeedData\n",
    "\n",
    "def random_string(length: int) -> str:\n",
    "    return \"\".join(random.choices(string.ascii_letters, k=length))\n",
    "\n",
    "seed_data = [\n",
    "    SeedData(\n",
    "        input_=\"can you delete my account? my name is Bob\",\n",
    "        result={\"function\": {\"name\": \"delete_account\", \"arguments\": { \"username\": \"Bob\" }, \"__required\": [\"username\"]}},\n",
    "    ),\n",
    "    SeedData(\n",
    "        input_=\"can you delete my account? my name is john\",\n",
    "        result={\"function\": {\"name\": \"delete_account\", \"arguments\": { \"username\": \"John\" }, \"__required\": [\"username\"]}},\n",
    "    ),\n",
    "    SeedData(\n",
    "        input_=\"how do I make an account? my name is Alice\",\n",
    "        result={\"function\": {\"name\": \"create_account\", \"arguments\": { \"username\": \"Alice\"}, \"__required\": [\"username\"]}},\n",
    "    ),\n",
    "    SeedData(\n",
    "        input_=\"how do I create an account?\",\n",
    "        result={\"function\": {\"name\": \"create_account\", \"arguments\": { \"username\": \".+\" }, \"__required\": [\"username\"]}},\n",
    "    ),\n",
    "    SeedData(\n",
    "        input_=\"my name is steve. how do I create a project?\",\n",
    "        result={\"function\": {\"name\": \"create_account\", \"arguments\": { \"username\": \"Steve\" }, \"__required\": [\"username\"]}},\n",
    "    ),\n",
    "]\n",
    "\n",
    "tool_scenario = okareo.create_scenario_set(\n",
    "    ScenarioSetCreate(\n",
    "        name=f\"Function Call Demo Scenario - {random_string(5)}\",\n",
    "        seed_data=seed_data,\n",
    "    ) \n",
    ")\n",
    "\n",
    "print(tool_scenario.app_link)"
   ]
  },
  {
   "cell_type": "markdown",
   "metadata": {},
   "source": [
    "Define the [CustomModel](https://docs.okareo.ai/docs/sdk/okareo_python#custommodel--modelinvocation) using conditionals, and register the model with Okareo.\n",
    "\n",
    "In reality, you would use the `CustomModel` class to invoke and parse your LLM's outputs. Feel free to play around!"
   ]
  },
  {
   "cell_type": "code",
   "execution_count": 54,
   "metadata": {},
   "outputs": [],
   "source": [
    "import re\n",
    "from okareo.model_under_test import CustomModel, ModelInvocation\n",
    "\n",
    "class FunctionCallModel(CustomModel):\n",
    "    def __init__(self, name):\n",
    "        super().__init__(name)\n",
    "        self.usernames = [\"Bob\", \"Alice\", \"John\"]\n",
    "        self.pattern = r'my name is (\\S+)'\n",
    "\n",
    "    def invoke(self, input_value):\n",
    "        out = {\"tool_calls\": []}\n",
    "        function_call = {\"name\": \"unknown\"}\n",
    "\n",
    "        # parse out the function name\n",
    "        if \"delete\" in input_value:\n",
    "            function_call[\"name\"] = \"delete_account\"\n",
    "        if \"create\" in input_value:\n",
    "            function_call[\"name\"] = \"create_account\"\n",
    "\n",
    "        # parse out the function argument\n",
    "        match = re.search(self.pattern, input_value)\n",
    "        if match:\n",
    "            username = match.group(1)\n",
    "            function_call[\"arguments\"] = {\"username\": username}\n",
    "\n",
    "        tool_call = {\n",
    "            \"function\": function_call\n",
    "        }\n",
    "\n",
    "        # package the tool call and return\n",
    "        out[\"tool_calls\"].append(tool_call)\n",
    "        return ModelInvocation(\n",
    "            model_input=input_value,\n",
    "            tool_calls=out[\"tool_calls\"]\n",
    "        )\n",
    "\n",
    "# Register the model to use in the test run\n",
    "mut_name=\"Function Call Demo Model\"\n",
    "model_under_test = okareo.register_model(\n",
    "    name=mut_name,\n",
    "    model=[FunctionCallModel(name=FunctionCallModel.__name__)],\n",
    "    update=True\n",
    ")"
   ]
  },
  {
   "cell_type": "markdown",
   "metadata": {},
   "source": [
    "Run a [Generation evaluation](https://docs.okareo.ai/docs/guides/generation_overview) on the custom model. \n",
    "\n",
    "We use a predefined [check in Okareo](https://docs.okareo.ai/docs/getting-started/concepts/checks) called function_call_validator, which uses regular expressions to match the expected result with the tool call."
   ]
  },
  {
   "cell_type": "code",
   "execution_count": 60,
   "metadata": {},
   "outputs": [
    {
     "name": "stdout",
     "output_type": "stream",
     "text": [
      "See results in Okareo: http://localhost:3000/project/cb832f0d-0e3d-4bed-9d9c-023441ec9dd5/eval/0d1f00e2-e12c-4b07-9573-38be0f5eddf0\n"
     ]
    }
   ],
   "source": [
    "# evaluation that uses the scenario, check, and model\n",
    "from okareo_api_client.models.test_run_type import TestRunType\n",
    "\n",
    "eval_name = f\"Function Call Demo Evaluation\"\n",
    "evaluation = model_under_test.run_test(\n",
    "    name=eval_name,\n",
    "    scenario=tool_scenario.scenario_id,\n",
    "    test_run_type=TestRunType.NL_GENERATION,\n",
    "    checks=[\"function_call_validator\",\n",
    "            \"is_function_correct\",\n",
    "            \"are_all_params_expected\",\n",
    "            \"are_required_params_present\",\n",
    "            \"do_param_values_match\"]\n",
    ")\n",
    "print(f\"See results in Okareo: {evaluation.app_link}\")"
   ]
  },
  {
   "cell_type": "code",
   "execution_count": null,
   "metadata": {},
   "outputs": [],
   "source": []
  }
 ],
 "metadata": {
  "kernelspec": {
   "display_name": "dev",
   "language": "python",
   "name": "python3"
  },
  "language_info": {
   "codemirror_mode": {
    "name": "ipython",
    "version": 3
   },
   "file_extension": ".py",
   "mimetype": "text/x-python",
   "name": "python",
   "nbconvert_exporter": "python",
   "pygments_lexer": "ipython3",
   "version": "3.11.5"
  }
 },
 "nbformat": 4,
 "nbformat_minor": 2
}
