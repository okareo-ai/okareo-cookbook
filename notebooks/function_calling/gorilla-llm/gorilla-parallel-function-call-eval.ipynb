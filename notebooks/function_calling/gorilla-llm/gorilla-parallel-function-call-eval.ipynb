{
 "cells": [
  {
   "cell_type": "markdown",
   "metadata": {},
   "source": [
    "# Parallel Function Calling Evaluation on Gorilla BFCL Dataset\n",
    "\n",
    "**🎯 Goal**:\n",
    "- Run a function calling evaluation in Okareo using the BFCL v3 data.\n",
    "- Provide a simple introduction to Okareo evaluations.\n",
    "\n",
    "**📋 Steps**:\n",
    "1. Upload a function calling scenario using the BFCL data.\n",
    "2. Define a custom model to generate the function calls\n",
    "3. Run the evaluation using the scenario (from #1) + model (from #2) along with Okareo predefined checks to measure function call accuracy, including:\n",
    "    - function_call_ast_validator\n",
    "\n",
    "**Notes**\n",
    "- We use two datasets from BFCL:\n",
    "    - ['simple' data](https://github.com/ShishirPatil/gorilla/blob/main/berkeley-function-call-leaderboard/data/BFCL_v3_live_simple.json) (and [ground truth](https://github.com/ShishirPatil/gorilla/blob/main/berkeley-function-call-leaderboard/data/possible_answer/BFCL_v3_live_simple.json)) - a single expected function call.\n",
    "    - ['parallel' data](https://github.com/ShishirPatil/gorilla/blob/main/berkeley-function-call-leaderboard/data/BFCL_v3_parallel.json) (and [ground truth](https://github.com/ShishirPatil/gorilla/blob/main/berkeley-function-call-leaderboard/data/possible_answer/BFCL_v3_parallel.json)) - more than one expected function call."
   ]
  },
  {
   "cell_type": "code",
   "execution_count": 1,
   "metadata": {},
   "outputs": [],
   "source": [
    "import os\n",
    "\n",
    "# get Okareo client\n",
    "from okareo import Okareo\n",
    "\n",
    "OKAREO_API_KEY = os.environ.get(\"OKAREO_API_KEY\")\n",
    "okareo = Okareo(OKAREO_API_KEY)"
   ]
  },
  {
   "cell_type": "markdown",
   "metadata": {},
   "source": [
    "Normally we would use `datasets` from huggingface to download the data, but there was an issue with the column names.\n",
    "\n",
    "Instead, use the manually downloaded files."
   ]
  },
  {
   "cell_type": "code",
   "execution_count": 2,
   "metadata": {},
   "outputs": [],
   "source": [
    "import json\n",
    "\n",
    "simple_data = [\"simple\", \"./data/BFCL_v3_live_simple.json\", \"./data/possible_answers/BFCL_v3_live_simple.json\"]\n",
    "parallel_data = [\"parallel\", \"./data/BFCL_v3_parallel.json\", \"./data/possible_answers/BFCL_v3_parallel.json\"]\n",
    "\n",
    "# make function names safe to use with OpenAI API\n",
    "def make_function_name_safe(text: str) -> str:\n",
    "    return text.replace(\".\", \"_\")\n",
    "\n",
    "seed_data_dict = {}\n",
    "\n",
    "N = 50 # number of examples per file\n",
    "for seed_data_key, input_filename, result_filename in [simple_data, parallel_data]:\n",
    "\n",
    "    # read the input and result files and store them in a dictionary\n",
    "    inputs = {}\n",
    "    with open(input_filename, \"r\") as f:\n",
    "        lines = f.readlines()\n",
    "        for i, line in enumerate(lines):\n",
    "            if i >= N:\n",
    "                break\n",
    "            input_ = json.loads(line)\n",
    "            # make function names safe to use with OpenAI, which  expects only alphanumeric characters, underscores, or hyphens\n",
    "            function_list = []\n",
    "            for f in input_[\"function\"]:\n",
    "                f['name'] = make_function_name_safe(f['name'])\n",
    "                function_list.append(f)\n",
    "            inputs[input_[\"id\"]] = {\"question\": input_[\"question\"], \"function\": function_list}\n",
    "\n",
    "    results = {}\n",
    "    with open(result_filename, \"r\") as f:\n",
    "        lines = f.readlines()\n",
    "        for i, line in enumerate(lines):\n",
    "            if i >= N:\n",
    "                break\n",
    "            result = json.loads(line)\n",
    "            function_list = []\n",
    "            for f in result[\"ground_truth\"]:\n",
    "                f_safe = {make_function_name_safe(k): v for k, v in f.items()}\n",
    "                function_list.append(f_safe)\n",
    "            results[result[\"id\"]] = {\"ground_truth\": function_list}\n",
    "\n",
    "    seed_data_dict[seed_data_key] = {\n",
    "        \"inputs\": inputs,\n",
    "        \"results\": results,\n",
    "    }"
   ]
  },
  {
   "cell_type": "code",
   "execution_count": 3,
   "metadata": {},
   "outputs": [
    {
     "name": "stdout",
     "output_type": "stream",
     "text": [
      "http://localhost:3000/project/39a0bd20-1c72-446e-b414-baef90bffe30/scenario/6befafb5-7fb8-46ab-a580-78364b9d1ae3\n",
      "http://localhost:3000/project/39a0bd20-1c72-446e-b414-baef90bffe30/scenario/b9f33b87-a96e-45f3-914d-a136cae0f681\n"
     ]
    }
   ],
   "source": [
    "# transform the input/result data into the required scenario format\n",
    "\n",
    "from okareo_api_client.models.scenario_set_create import ScenarioSetCreate\n",
    "from okareo_api_client.models.seed_data import SeedData\n",
    "\n",
    "scenario_dict = {}\n",
    "\n",
    "for scenario_name, scenario_data in seed_data_dict.items():\n",
    "    seed_data = []\n",
    "    inputs = scenario_data[\"inputs\"]\n",
    "    results = scenario_data[\"results\"]\n",
    "\n",
    "    for key in inputs.keys():\n",
    "        input_ = inputs[key]\n",
    "        result = results[key]\n",
    "        func_list = []\n",
    "        for r in result['ground_truth']:\n",
    "            func_name = list(r.keys())[0]\n",
    "            func_args = {k: v for k, v in r[func_name].items() if len(v) > 0}\n",
    "            func_list.append({\n",
    "                \"name\": func_name,\n",
    "                \"arguments\": func_args,\n",
    "            })\n",
    "        seed_data.append(\n",
    "            SeedData(\n",
    "                input_ = {\n",
    "                    \"question\": input_[\"question\"],\n",
    "                    \"function\": input_[\"function\"]\n",
    "                },\n",
    "                result = func_list\n",
    "            )\n",
    "        )\n",
    "\n",
    "    tool_scenario = okareo.create_scenario_set(\n",
    "        ScenarioSetCreate(\n",
    "            # name=f\"BFCL Gorilla - Parallel Function Call\",\n",
    "            name=f\"BFCL Gorilla - {scenario_name} Function Call\",\n",
    "            seed_data=seed_data,\n",
    "        ) \n",
    "    )\n",
    "\n",
    "    print(tool_scenario.app_link)\n",
    "    scenario_dict[scenario_name] = tool_scenario"
   ]
  },
  {
   "cell_type": "code",
   "execution_count": 4,
   "metadata": {},
   "outputs": [],
   "source": [
    "py_to_oai_types = {\n",
    "    \"str\": \"string\",\n",
    "    \"int\": \"integer\",\n",
    "    \"float\": \"number\",\n",
    "    \"bool\": \"boolean\",\n",
    "    \"list\": \"array\",\n",
    "    \"dict\": \"object\",\n",
    "}\n",
    "\n",
    "def parse_input_to_openai_tool(input_function):\n",
    "    # format the function call to be used in the OpenAI completion 'tools' arg\n",
    "    # see here: https://platform.openai.com/docs/guides/function-calling\n",
    "    tools = []\n",
    "    for tool in input_function:\n",
    "        params = tool[\"parameters\"]\n",
    "        parsed_properties = {}\n",
    "        for p_key, p_dict in params[\"properties\"].items():\n",
    "            parsed_param = {\n",
    "                \"type\": py_to_oai_types[p_dict[\"type\"]] if p_dict[\"type\"] in py_to_oai_types else p_dict[\"type\"],\n",
    "                \"description\": p_dict.get(\"description\", \"\")\n",
    "            }\n",
    "            if parsed_param[\"type\"] == \"array\":\n",
    "                parsed_param[\"items\"] = {\n",
    "                    \"type\": py_to_oai_types[p_dict[\"items\"][\"type\"]] if p_dict[\"items\"][\"type\"] in py_to_oai_types else p_dict[\"items\"][\"type\"],\n",
    "                }\n",
    "            if \"default\" in p_dict:\n",
    "                parsed_param[\"default\"] = p_dict[\"default\"]\n",
    "            if \"enum\" in p_dict:\n",
    "                parsed_param[\"enum\"] = p_dict[\"enum\"]\n",
    "            parsed_properties[p_key] = parsed_param\n",
    "        tools.append({\n",
    "            \"type\": \"function\",\n",
    "            \"function\": {\n",
    "                \"name\": tool[\"name\"],\n",
    "                \"description\": tool[\"description\"],\n",
    "                \"parameters\": {\n",
    "                    \"type\": py_to_oai_types[params[\"type\"]],\n",
    "                    \"properties\": parsed_properties,\n",
    "                    \"required\": params[\"required\"],\n",
    "                }\n",
    "            }\n",
    "        })\n",
    "    return tools"
   ]
  },
  {
   "cell_type": "code",
   "execution_count": 5,
   "metadata": {},
   "outputs": [],
   "source": [
    "from openai import OpenAI\n",
    "\n",
    "client = OpenAI()\n",
    "\n",
    "from okareo.model_under_test import CustomModel, ModelInvocation\n",
    "\n",
    "\n",
    "class FunctionCallModel(CustomModel):\n",
    "    def __init__(self, name):\n",
    "        super().__init__(name)\n",
    "\n",
    "    def invoke(self, input_value):\n",
    "        messages = input_value['question'][0]\n",
    "        tools = parse_input_to_openai_tool(input_value[\"function\"])\n",
    "        completion = client.chat.completions.create(\n",
    "            model=\"gpt-4o\",\n",
    "            messages=messages,\n",
    "            tools=tools\n",
    "        )\n",
    "\n",
    "        # extract the function call from the completion and return in invocation\n",
    "        completion_tool_calls = []\n",
    "        if completion.choices[0].message.tool_calls is not None:\n",
    "            for tc in completion.choices[0].message.tool_calls:\n",
    "                parsed_tool = tc.to_dict()\n",
    "                parsed_tool['function']['arguments'] = json.loads(parsed_tool['function']['arguments'])\n",
    "                completion_tool_calls.append(parsed_tool)\n",
    "        out = {\"tool_calls\": completion_tool_calls} \n",
    "        return ModelInvocation(\n",
    "            model_input=messages,\n",
    "            model_prediction=completion.choices[0].message.content,\n",
    "            tool_calls=out[\"tool_calls\"]\n",
    "        )\n",
    "\n",
    "# Register the model to use in the test run\n",
    "mut_name=\"GPT-4o Function Call Model\"\n",
    "model_under_test = okareo.register_model(\n",
    "    name=mut_name,\n",
    "    model=[FunctionCallModel(name=FunctionCallModel.__name__)],\n",
    "    update=True\n",
    ")"
   ]
  },
  {
   "cell_type": "code",
   "execution_count": 6,
   "metadata": {},
   "outputs": [
    {
     "data": {
      "text/plain": [
       "ModelInvocation(model_prediction=None, model_input=[{'role': 'user', 'content': 'Play songs from the artists Taylor Swift and Maroon 5, with a play time of 20 minutes and 15 minutes respectively, on Spotify.'}], model_output_metadata=None, tool_calls=[{'id': 'call_kMLW9zlPwyn1PD8AlJ3HApES', 'function': {'arguments': {'artist': 'Taylor Swift', 'duration': 20}, 'name': 'spotify_play'}, 'type': 'function'}, {'id': 'call_KgtCkx7Bp0AkrTpwtumiHOi4', 'function': {'arguments': {'artist': 'Maroon 5', 'duration': 15}, 'name': 'spotify_play'}, 'type': 'function'}])"
      ]
     },
     "execution_count": 6,
     "metadata": {},
     "output_type": "execute_result"
    }
   ],
   "source": [
    "FunctionCallModel(mut_name).invoke(seed_data[0].input_)"
   ]
  },
  {
   "cell_type": "code",
   "execution_count": 7,
   "metadata": {},
   "outputs": [
    {
     "name": "stdout",
     "output_type": "stream",
     "text": [
      "See results for simple scenario in Okareo: http://localhost:3000/project/39a0bd20-1c72-446e-b414-baef90bffe30/eval/391e6f14-507b-443a-a3fb-75bb5152b76f\n",
      "See results for parallel scenario in Okareo: http://localhost:3000/project/39a0bd20-1c72-446e-b414-baef90bffe30/eval/a18dab18-a432-43f8-9e4c-f2ba2139b88e\n"
     ]
    }
   ],
   "source": [
    "# evaluation that uses the scenario, check, and model\n",
    "from okareo_api_client.models.test_run_type import TestRunType\n",
    "\n",
    "for scenario_name, tool_scenario in scenario_dict.items():\n",
    "    eval_name = f\"BFCL Gorilla - {scenario_name} Function Call Evaluation\"\n",
    "    evaluation = model_under_test.run_test(\n",
    "        name=eval_name,\n",
    "        scenario=tool_scenario.scenario_id,\n",
    "        test_run_type=TestRunType.NL_GENERATION,\n",
    "        checks=[\"function_call_ast_validator\"]\n",
    "    )\n",
    "    print(f\"See results for {scenario_name} scenario in Okareo: {evaluation.app_link}\")"
   ]
  },
  {
   "cell_type": "code",
   "execution_count": null,
   "metadata": {},
   "outputs": [],
   "source": []
  }
 ],
 "metadata": {
  "kernelspec": {
   "display_name": "dev",
   "language": "python",
   "name": "python3"
  },
  "language_info": {
   "codemirror_mode": {
    "name": "ipython",
    "version": 3
   },
   "file_extension": ".py",
   "mimetype": "text/x-python",
   "name": "python",
   "nbconvert_exporter": "python",
   "pygments_lexer": "ipython3",
   "version": "3.11.11"
  }
 },
 "nbformat": 4,
 "nbformat_minor": 2
}
