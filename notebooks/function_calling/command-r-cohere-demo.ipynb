{
 "cells": [
  {
   "cell_type": "markdown",
   "metadata": {},
   "source": [
    "# Command-R Function Calling Evaluation Demo\n",
    "\n",
    "**🎯 Goal**:\n",
    "- Use Okareo to evaluate Cohere's Command-R function calling model.\n",
    "\n",
    "**📋 Steps**:\n",
    "- Upload a function calling scenario\n",
    "- Upload custom checks to assess the agent's function calling outputs\n",
    "- Define a custom model to invoke Command-R for function calling\n",
    "- Run the evaluation using the scenario, checks, and model"
   ]
  },
  {
   "cell_type": "code",
   "execution_count": null,
   "metadata": {},
   "outputs": [],
   "source": [
    "# get Okareo client\n",
    "import os\n",
    "from okareo import Okareo\n",
    "\n",
    "OKAREO_API_KEY = os.environ[\"OKAREO_API_KEY\"]\n",
    "okareo = Okareo(OKAREO_API_KEY)"
   ]
  },
  {
   "cell_type": "markdown",
   "metadata": {},
   "source": [
    "Upload a scenario based on data used in the Berkeley Function Calling Leaderboard.\n",
    "\n",
    "See here for more details: https://gorilla.cs.berkeley.edu/leaderboard.html#leaderboard"
   ]
  },
  {
   "cell_type": "code",
   "execution_count": null,
   "metadata": {},
   "outputs": [],
   "source": [
    "from okareo_api_client.models.scenario_set_create import ScenarioSetCreate\n",
    "from okareo_api_client.models.seed_data import SeedData\n",
    "\n",
    "file_path = \"scenarios/google_api_scenario.jsonl\"\n",
    "tool_scenario = okareo.upload_scenario_set(\n",
    "    scenario_name=\"Google API Tool Scenario\",\n",
    "    file_path=file_path,\n",
    ")\n",
    "print(tool_scenario.app_link)"
   ]
  },
  {
   "cell_type": "markdown",
   "metadata": {},
   "source": [
    "Load the tool definitions for use with Command-R."
   ]
  },
  {
   "cell_type": "code",
   "execution_count": null,
   "metadata": {},
   "outputs": [],
   "source": [
    "# load the tools to use with command-r\n",
    "import json\n",
    "\n",
    "def int_to_bool(obj):\n",
    "    # Convert all integer values to booleans\n",
    "    return {k: (bool(v) if isinstance(v, int) else v) for k, v in obj.items()}\n",
    "\n",
    "search_filename = \"apis/cohere_format/google_search.json\"\n",
    "with open(search_filename, \"r\") as f:\n",
    "    search_contents = json.load(f, object_hook=int_to_bool)\n",
    "\n",
    "translate_filename = \"apis/cohere_format/google_translate.json\"\n",
    "with open(translate_filename, \"r\") as f:\n",
    "    translate_contents = json.load(f, object_hook=int_to_bool)"
   ]
  },
  {
   "cell_type": "markdown",
   "metadata": {},
   "source": [
    "Define the [CustomModel](https://docs.okareo.ai/docs/sdk/okareo_python#custommodel--modelinvocation) to call Command-R and parse its outputs."
   ]
  },
  {
   "cell_type": "code",
   "execution_count": null,
   "metadata": {},
   "outputs": [],
   "source": [
    "# custom model that calls command-r with tools\n",
    "\n",
    "from okareo.model_under_test import CustomModel, ModelInvocation\n",
    "import cohere\n",
    "\n",
    "COHERE_API_KEY = os.environ[\"COHERE_API_KEY\"]\n",
    "\n",
    "class CommandRToolModel(CustomModel):\n",
    "    def __init__(self, name):\n",
    "        super().__init__(name)\n",
    "        self.client = cohere.Client(api_key=COHERE_API_KEY)\n",
    "        self.tools = search_contents+translate_contents\n",
    "        self.preamble = (\n",
    "            \"You are a Google API assistant helping a user translate their requests into code. \"\n",
    "            \"The user will provide a description of the task they want to accomplish, \"\n",
    "            \"and you will generate the corresponding Python code.\\n\\n\"\n",
    "            \"Only output the code snippet that corresponds to the API call that answers the user's question. \"\n",
    "            \"For example, 'my_api_call(\\\"my argument #1\\\", \\\"my argument #2\\\")'\"\n",
    "        )\n",
    "\n",
    "    def invoke(self, input_value):\n",
    "        response = self.client.chat(\n",
    "            message=input_value,\n",
    "            tools=self.tools,\n",
    "            preamble=self.preamble,\n",
    "            model=\"command-r\",\n",
    "        )\n",
    "        # extract the tool completion\n",
    "        message_out = response.chat_history[-1]\n",
    "        print(message_out)\n",
    "        return ModelInvocation(\n",
    "            model_prediction=message_out,\n",
    "            model_input=input_value,\n",
    "            raw_model_output=response.meta,\n",
    "        )\n",
    "\n",
    "# Register the model to use in the test run\n",
    "mut_name=\"Command-R Tool Model\"\n",
    "model_under_test = okareo.register_model(\n",
    "    name=mut_name,\n",
    "    model=[CommandRToolModel(name=CommandRToolModel.__name__)],\n",
    "    update=True\n",
    ")"
   ]
  },
  {
   "cell_type": "markdown",
   "metadata": {},
   "source": [
    "Run a [Generation evaluation](https://docs.okareo.ai/docs/guides/generation_overview) on the custom Command-R model. \n",
    "\n",
    "We use predefined [checks in Okareo](https://docs.okareo.ai/docs/getting-started/concepts/checks), and the selected checks reflect the [Evaluation Metrics](https://gorilla.cs.berkeley.edu/blogs/8_berkeley_function_calling_leaderboard.html#metrics) used in the Tool Calling Leaderboard. These checks include:\n",
    "\n",
    "- \"Is Function Correct\"\n",
    "- \"Are Required Parameters Present\"\n",
    "- \"Are All Parameters Expected\"\n",
    "- \"Do Parameter Values Match\""
   ]
  },
  {
   "cell_type": "code",
   "execution_count": null,
   "metadata": {},
   "outputs": [],
   "source": [
    "# evaluation that uses the scenario, check, and model\n",
    "from okareo_api_client.models.test_run_type import TestRunType\n",
    "\n",
    "eval_name = f\"Command-R Tool Call evaluation\"\n",
    "evaluation = model_under_test.run_test(\n",
    "    name=eval_name,\n",
    "    scenario=tool_scenario.scenario_id,\n",
    "    test_run_type=TestRunType.NL_GENERATION,\n",
    "    checks=[\n",
    "        \"is_function_correct\",\n",
    "        \"are_required_params_present\",\n",
    "        \"are_all_params_expected\",\n",
    "        \"do_param_values_match\",\n",
    "    ],\n",
    ")\n",
    "print(f\"See results in Okareo: {evaluation.app_link}\")"
   ]
  }
 ],
 "metadata": {
  "kernelspec": {
   "display_name": "dev",
   "language": "python",
   "name": "python3"
  },
  "language_info": {
   "codemirror_mode": {
    "name": "ipython",
    "version": 3
   },
   "file_extension": ".py",
   "mimetype": "text/x-python",
   "name": "python",
   "nbconvert_exporter": "python",
   "pygments_lexer": "ipython3",
   "version": "3.11.5"
  }
 },
 "nbformat": 4,
 "nbformat_minor": 2
}
