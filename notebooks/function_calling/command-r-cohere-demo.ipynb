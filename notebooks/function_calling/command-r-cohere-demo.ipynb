{
 "cells": [
  {
   "cell_type": "markdown",
   "metadata": {},
   "source": [
    "# Command-R Function Calling Evaluation Demo\n",
    "\n",
    "**Goal**: Use Okareo to evaluate a function calling agent.\n",
    "\n",
    "**Steps**:\n",
    "- Upload a function calling scenario\n",
    "- Upload custom checks to assess the agent's function calling outputs\n",
    "- Define a custom model to invoke Command-R for function calling\n",
    "- Run the evaluation using the scenario, checks, and model"
   ]
  },
  {
   "cell_type": "code",
   "execution_count": null,
   "metadata": {},
   "outputs": [],
   "source": [
    "# get Okareo client\n",
    "import os\n",
    "from okareo import Okareo\n",
    "\n",
    "OKAREO_API_KEY = os.environ[\"OKAREO_API_KEY\"]\n",
    "okareo = Okareo(OKAREO_API_KEY)"
   ]
  },
  {
   "cell_type": "markdown",
   "metadata": {},
   "source": [
    "Upload a scenario based on data used in the Berkeley Function Calling Leaderboard.\n",
    "\n",
    "See here for more details: https://gorilla.cs.berkeley.edu/leaderboard.html#leaderboard"
   ]
  },
  {
   "cell_type": "code",
   "execution_count": null,
   "metadata": {},
   "outputs": [],
   "source": [
    "import json\n",
    "\n",
    "from okareo_api_client.models.scenario_set_create import ScenarioSetCreate\n",
    "from okareo_api_client.models.seed_data import SeedData\n",
    "\n",
    "file_path = \"scenarios/google_api_scenario.jsonl\"\n",
    "seed_data = []\n",
    "\n",
    "with open(file_path, \"r\") as f:\n",
    "    lines = f.readlines()\n",
    "    for line in lines:\n",
    "        row = json.loads(line)\n",
    "        seed_data.append(SeedData(\n",
    "            input_=row[\"input\"],\n",
    "            result=row[\"result\"].replace(\"'\", \"\\\"\"),\n",
    "            # result=json.dumps(row[\"result\"].replace(\"'\", '\\\"')),\n",
    "        ))\n",
    "\n",
    "tool_scenario = okareo.create_scenario_set(\n",
    "    ScenarioSetCreate(\n",
    "        name=\"Google API Tool Scenario\",\n",
    "        seed_data=seed_data,\n",
    "    ) \n",
    ")\n",
    "print(tool_scenario.app_link)"
   ]
  },
  {
   "cell_type": "markdown",
   "metadata": {},
   "source": [
    "Upload [code-based checks](https://docs.okareo.ai/docs/sdk/okareo_python#codebasedcheck) based on the [Evaluation Metrics](https://gorilla.cs.berkeley.edu/blogs/8_berkeley_function_calling_leaderboard.html#metrics) used in the Tool Calling Leaderboard. These checks include:\n",
    "\n",
    "- \"Is Function Correct\"\n",
    "- \"Are Required Parameters Present\"\n",
    "- \"Are All Parameters Expected\"\n",
    "- \"Do Parameter Values Match\""
   ]
  },
  {
   "cell_type": "code",
   "execution_count": null,
   "metadata": {},
   "outputs": [],
   "source": [
    "from checks.is_function_correct import Check\n",
    "\n",
    "test_1 = ['{\"tool_calls\": [{\"name\": \"projects_getSupportedLanguages\"}]}', '{\"name\": \"projects_getSupportedLanguages\"}']\n",
    "test_2 = ['{\"tool_calls\": [{\"name\": \"projects_getSupportedLanguages\"}]}', '{\"name\": \"projects_detectLanugage\"}']\n",
    "test_3 = [\n",
    "    '{\"role\": \"CHATBOT\", \"message\": \"I will use the SearchAnalytics API to find the romanised text in the project.\", \"tool_calls\": [{\"name\": \"projects_romanizeText\", \"parameters\": {\"parent\": \"cd9dc059-838a-485d-beae-48a9365932b6\"}}]}',\n",
    "    \"{\\\"name\\\": \\\"projects_romanizeText\\\", \\\"parameter_definitions\\\": {\\\"parent\\\": {\\\"value\\\": \\\"cd9dc059-838a-485d-beae-48a9365932b6\\\", \\\"required\\\": true}}}\"\n",
    "]\n",
    "for i, test in enumerate([test_1, test_2, test_3]):\n",
    "    print(Check.evaluate(*test))\n",
    "\n",
    "# upload the custom checks for function calling\n",
    "correct_function_check = okareo.create_or_update_check(\n",
    "    name=f\"Is Function Correct\",\n",
    "    description=\"Checks if the generated function call in the model_output matches the expected function call in the scenario_result.\",\n",
    "    check=Check(),\n",
    ")"
   ]
  },
  {
   "cell_type": "code",
   "execution_count": null,
   "metadata": {},
   "outputs": [],
   "source": [
    "from checks.are_required_params_present import Check\n",
    "\n",
    "test_1 = ['{\"tool_calls\": [{\"parameters\": {\"siteUrl\": \"http://example.com\"}}]}', '{\"parameter_definitions\": {\"siteUrl\": {\"required\": true}}}']\n",
    "test_2 = ['{\"tool_calls\": [{\"parameters\": {\"parent\": \"http://example.com\"}}]}', '{\"parameter_definitions\": {\"siteUrl\": {\"required\": true}}}']\n",
    "for test in [test_1, test_2]:\n",
    "    print(Check.evaluate(*test)) # True\n",
    "\n",
    "required_params_check = okareo.create_or_update_check(\n",
    "    name=f\"Are Required Parameters Present\",\n",
    "    description=\"Checks if the generated parameters in the model_output contain the required parameters stipulated in the scenario_result.\",\n",
    "    check=Check(),\n",
    ")"
   ]
  },
  {
   "cell_type": "code",
   "execution_count": null,
   "metadata": {},
   "outputs": [],
   "source": [
    "from checks.are_all_params_expected import Check\n",
    "\n",
    "test_1 = ['{\"tool_calls\": [{\"parameters\": {\"siteUrl\": \"http://example.com\"}}]}', '{\"parameter_definitions\": {\"siteUrl\": {\"required\": true}}}']\n",
    "test_2 = ['{\"tool_calls\": [{\"parameters\": {\"siteUrl\": \"http://example.com\", \"parent\": \"http://example.com\"}}]}', '{\"parameter_definitions\": {\"siteUrl\": {\"required\": true}}}']\n",
    "test_3 = ['{\"tool_calls\": [{\"parameters\": {\"siteUrl\": \"http://example.com\", \"parent\": \"http://example.com\"}}]}', '{\"parameter_definitions\": {\"siteUrl\": {\"required\": true}, \"parent\": {\"required\": false}}}']\n",
    "for test in [test_1, test_2, test_3]:\n",
    "    print(Check.evaluate(*test)) # True\n",
    "\n",
    "all_params_expected_check = okareo.create_or_update_check(\n",
    "    name=f\"Are All Parameters Expected\",\n",
    "    description=\"Checks if the generated parameter names in the model_output are expected based on the schema in the scenario_result.\",\n",
    "    check=Check(),\n",
    ")"
   ]
  },
  {
   "cell_type": "code",
   "execution_count": null,
   "metadata": {},
   "outputs": [],
   "source": [
    "from checks.do_param_values_match import Check\n",
    "\n",
    "test_1 = ['{\"tool_calls\": [{\"parameters\": {\"siteUrl\": \"http://example.com\"}}]}', '{\"parameter_definitions\": {\"siteUrl\": {\"value\": \"http://example.com\", \"required\": true}}}']\n",
    "test_2 = ['{\"tool_calls\": [{\"parameters\": {\"siteUrl\": \"http://example.com\", \"parent\": \"http://example.com\"}}]}', '{\"parameter_definitions\": {\"siteUrl\": {\"value\": \"whoops, wrong value\",\"required\": true}}}']\n",
    "test_3 = ['{\"tool_calls\": [{\"parameters\": {\"siteUrl\": \"http://example.com\", \"parent\": \"http://example.com\"}}]}', '{\"parameter_definitions\": {\"siteUrl\": {\"value\": \"http://example.com\", \"required\": true}, \"parent\": {\"value\": \"http://example.com\", \"required\": false}}}']\n",
    "for test in [test_1, test_2, test_3]:\n",
    "    print(Check.evaluate(*test)) # True\n",
    "\n",
    "param_values_match_check = okareo.create_or_update_check(\n",
    "    name=f\"Do Parameters Values Match\",\n",
    "    description=\"Checks if each specified parameter value in the scenario_result is captured in the generated parameter values in the model_output.\",\n",
    "    check=Check(),\n",
    ")"
   ]
  },
  {
   "cell_type": "markdown",
   "metadata": {},
   "source": [
    "Load the tool definitions for use with Command-R."
   ]
  },
  {
   "cell_type": "code",
   "execution_count": null,
   "metadata": {},
   "outputs": [],
   "source": [
    "# load the tools to use with command-r\n",
    "import json\n",
    "\n",
    "def int_to_bool(obj):\n",
    "    # Convert all integer values to booleans\n",
    "    return {k: (bool(v) if isinstance(v, int) else v) for k, v in obj.items()}\n",
    "\n",
    "search_filename = \"apis/cohere_format/google_search.json\"\n",
    "with open(search_filename, \"r\") as f:\n",
    "    search_contents = json.load(f, object_hook=int_to_bool)\n",
    "\n",
    "translate_filename = \"apis/cohere_format/google_translate.json\"\n",
    "with open(translate_filename, \"r\") as f:\n",
    "    translate_contents = json.load(f, object_hook=int_to_bool)"
   ]
  },
  {
   "cell_type": "markdown",
   "metadata": {},
   "source": [
    "Define the [CustomModel](https://docs.okareo.ai/docs/sdk/okareo_python#custommodel--modelinvocation) to call Command-R and parse its outputs."
   ]
  },
  {
   "cell_type": "code",
   "execution_count": null,
   "metadata": {},
   "outputs": [],
   "source": [
    "# custom model that calls command-r with tools\n",
    "\n",
    "from okareo.model_under_test import CustomModel, ModelInvocation\n",
    "import cohere\n",
    "\n",
    "COHERE_API_KEY = os.environ[\"COHERE_API_KEY\"]\n",
    "\n",
    "class CommandRToolModel(CustomModel):\n",
    "    def __init__(self, name):\n",
    "        super().__init__(name)\n",
    "        self.client = cohere.Client(api_key=COHERE_API_KEY)\n",
    "        self.tools = search_contents+translate_contents\n",
    "        self.preamble = (\n",
    "            \"You are a Google API assistant helping a user translate their requests into code. \"\n",
    "            \"The user will provide a description of the task they want to accomplish, \"\n",
    "            \"and you will generate the corresponding Python code.\\n\\n\"\n",
    "            \"Only output the code snippet that corresponds to the API call that answers the user's question. \"\n",
    "            \"For example, 'my_api_call(\\\"my argument #1\\\", \\\"my argument #2\\\")'\"\n",
    "        )\n",
    "\n",
    "    def invoke(self, input_value):\n",
    "        response = self.client.chat(\n",
    "            message=input_value,\n",
    "            tools=self.tools,\n",
    "            preamble=self.preamble,\n",
    "            model=\"command-r\",\n",
    "        )\n",
    "        # extract the tool completion\n",
    "        message_out = response.chat_history[-1]\n",
    "        print(message_out)\n",
    "        return ModelInvocation(\n",
    "            model_prediction=json.dumps(message_out),\n",
    "            model_input=input_value,\n",
    "            model_output_metadata=response.meta,\n",
    "        )\n",
    "\n",
    "# Register the model to use in the test run\n",
    "mut_name=\"Command-R Tool Model\"\n",
    "model_under_test = okareo.register_model(\n",
    "    name=mut_name,\n",
    "    model=[CommandRToolModel(name=CommandRToolModel.__name__)],\n",
    "    update=True\n",
    ")"
   ]
  },
  {
   "cell_type": "code",
   "execution_count": null,
   "metadata": {},
   "outputs": [],
   "source": [
    "# test the model out\n",
    "command_r_model = CommandRToolModel(name=CommandRToolModel.__name__) \n",
    "invocation = command_r_model.invoke(\"Can you help me get the sitemap for the following URL? https://arstechnica.com/\")"
   ]
  },
  {
   "cell_type": "markdown",
   "metadata": {},
   "source": [
    "Run a [Generation evaluation](https://docs.okareo.ai/docs/guides/generation_overview) in Okareo on the custom Command-R model. "
   ]
  },
  {
   "cell_type": "code",
   "execution_count": null,
   "metadata": {},
   "outputs": [],
   "source": [
    "# evaluation that uses the scenario, check, and model\n",
    "from okareo_api_client.models.test_run_type import TestRunType\n",
    "\n",
    "eval_name = f\"Command-R Tool Call evaluation\"\n",
    "evaluation = model_under_test.run_test(\n",
    "    name=eval_name,\n",
    "    scenario=tool_scenario.scenario_id,\n",
    "    test_run_type=TestRunType.NL_GENERATION,\n",
    "    checks=[\n",
    "        correct_function_check.id,\n",
    "        required_params_check.id,\n",
    "        all_params_expected_check.id,\n",
    "        param_values_match_check.id,\n",
    "    ],\n",
    ")\n",
    "print(f\"See results in Okareo: {evaluation.app_link}\")"
   ]
  }
 ],
 "metadata": {
  "kernelspec": {
   "display_name": "dev",
   "language": "python",
   "name": "python3"
  },
  "language_info": {
   "codemirror_mode": {
    "name": "ipython",
    "version": 3
   },
   "file_extension": ".py",
   "mimetype": "text/x-python",
   "name": "python",
   "nbconvert_exporter": "python",
   "pygments_lexer": "ipython3",
   "version": "3.11.5"
  }
 },
 "nbformat": 4,
 "nbformat_minor": 2
}
