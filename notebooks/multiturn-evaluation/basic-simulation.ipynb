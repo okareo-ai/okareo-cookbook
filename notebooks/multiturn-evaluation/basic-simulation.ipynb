{
 "cells": [
  {
   "cell_type": "markdown",
   "id": "58ff2c26",
   "metadata": {},
   "source": [
    "<a target=\"_blank\" href=\"https://colab.research.google.com/github/okareo-ai/okareo-cookbook/blob/main/notebooks/multiturn-evaluation/basic-simulation.ipynb\">\n",
    "  <img src=\"https://colab.research.google.com/assets/colab-badge.svg\" alt=\"Open In Colab\"/>\n",
    "</a>\n",
    "\n",
    "\n",
    "\n",
    "# Running a Basic Simulation with Okareo\n",
    "\n",
    "In this notebook, we show you how to use a `MultiTurnDriver` to simulate and evaluate a conversation.\n",
    "\n",
    "A `MultiTurnDriver` defines a back-and-forth between a Driver (simulated user) and a Target (the agent under evaluation). It’s typically used to test how a chatbot or agent performs across multiple turns in a dialog. In this example, we will use a simple system prompt for the Target. You can also use our `CustomEndpointTarget` to interact with an Agent you've built with AutoGen, CrewAI, OpenAI, AI-SDK, or any other agent framework.\n",
    "\n",
    "This example is designed to provide an initial framework for undeerstanding the elements of a simulation.\n",
    "\n",
    "## 🎯 Goals\n",
    "\n",
    "After using this notebook, you will be able to:\n",
    "- Upload a scenario to Okareo\n",
    "- Define a `MultiTurnDriver` in Okareo\n",
    "- Define a `Driver` that uses scenario data to follow an objective.\n",
    "- Define a `stop_check` to ensure conversations aren't any longer than they need to be.\n",
    "- Evaluate a conversation over multiple back-and-forth interactions."
   ]
  },
  {
   "cell_type": "code",
   "execution_count": null,
   "id": "e42a0649",
   "metadata": {},
   "outputs": [],
   "source": [
    "# can be skipped if the kernel already has okareo installed\n",
    "%pip install --upgrade okareo"
   ]
  },
  {
   "cell_type": "markdown",
   "id": "cb506153",
   "metadata": {},
   "source": [
    "## Guiding Your Driver\n",
    "\n",
    "The first thing we'll need to do is create a set of objectives that will guide our Driver's conversation. Each objective is stored as a row in a Scenario.\n",
    "\n",
    "The Driver's behaviors, tone, attitude and approach are defined as part of the `driver_prompt_template`. A Driver template includes the scenario goal. When you are more familiar with Okareo, you can use json as part of the scenario to vary additional Driver conditions on a per-row basis - for example, frustration, tone, or even a product-id. Generally, the fundamental tone and mannerisms that the Driver should adopt during the conversation are part of the `driver_prompt_template`.\n",
    "\n",
    "Your Scenario also includes a \"result,\" which we will use to define the expected outcome of the conversation. The `Simulation_Task_Completed` check uses the result to determine when the conversation is over and if it succeeded. You can add as many checks as you need to the simulation.\n",
    "\n",
    "In our case, we will see how the Driver and Target negotiate returning shoes that were never used and shoes that are over a year old and well worn. How will it go? You may be surprised."
   ]
  },
  {
   "cell_type": "code",
   "execution_count": null,
   "id": "c322bdfb",
   "metadata": {},
   "outputs": [],
   "source": [
    "import os\n",
    "from okareo import Okareo\n",
    "\n",
    "OKAREO_API_KEY = os.environ.get(\"OKAREO_API_KEY\", \"<YOUR_OKAREO_API_KEY>\")\n",
    "OPENAI_API_KEY = os.environ.get(\"OPENAI_API_KEY\", \"<OPENAI_API_KEY>\")\n",
    "\n",
    "okareo = Okareo(OKAREO_API_KEY)\n",
    "print(\"✅ Successfully connected to Okareo!\")"
   ]
  },
  {
   "cell_type": "code",
   "execution_count": null,
   "id": "9aba6f59",
   "metadata": {},
   "outputs": [],
   "source": [
    "# Scenarios are locked once created.\n",
    "# To make changes, you need to provide a new name.\n",
    "# A trick we often use is to add a random number to the name. \n",
    "# from random import randint\n",
    "# name=f\"Retail Chatbot Simulation {randint(10000, 99999)}\"\n",
    "\n",
    "from okareo_api_client.models.scenario_set_create import ScenarioSetCreate\n",
    "from okareo_api_client.models.seed_data import SeedData\n",
    "\n",
    "seed_data = [\n",
    "    SeedData(\n",
    "        input_=\"Return a pair of shoes purchased last week.\", # the objective for the Driver\n",
    "        result=\"Agent explains return policy and offers a return shipping label.\", # the expected outcome of the conversation\n",
    "    ),\n",
    "    SeedData(\n",
    "        input_=\"Return a used pair of shoes purchased last year.\", # the second objective for the Driver\n",
    "        result=\"Agent politely refuses and explains the no-return policy.\",  # the expected outcome of the conversation\n",
    "    ),\n",
    "]\n",
    "\n",
    "scenario_set_create = ScenarioSetCreate(\n",
    "    name=f\"Return Scenarios\", seed_data=seed_data\n",
    ")\n",
    "\n",
    "scenario = okareo.create_scenario_set(scenario_set_create)"
   ]
  },
  {
   "cell_type": "markdown",
   "id": "945117f2",
   "metadata": {},
   "source": [
    "## Register The Driver and Target\n",
    "\n",
    "Okareo provides a range of pre-made Driver prompt templates. Here we include the most basic elemnents `Mindset`, `Objective`, `Guidelines`. Driver's can get far more complicated including detailed information about their history, background or situation.\n",
    "\n",
    "You will also see that the target is a simple prompt. Full simulation typicall register endpoints for communication with Agents. Okareo natively supports `Start Session`, `Next Turn`, and `End Session` as configurable endpoints for the Target. If that is not sufficient, you can always use a custom invocation to handle unique auth or other requirements.\n",
    "\n",
    "As part of the simulation, we'll need to know how to end a conversation. We do this with checks, which in this case will be the `Simulation_Task_Completed` check. If at any point the Target and Driver have met the task completion criteria then the conversation will end. The conversation \"stop condition\" can be based on tone, beahavior adherence, modal refusal or simply a max number of interactions. "
   ]
  },
  {
   "cell_type": "code",
   "execution_count": null,
   "id": "191de8ef",
   "metadata": {},
   "outputs": [],
   "source": [
    "from okareo_api_client.models.test_run_type import TestRunType\n",
    "from okareo.model_under_test import (\n",
    "    GenerationModel,\n",
    "    MultiTurnDriver,\n",
    ")\n",
    "\n",
    "mut = okareo.register_model(\n",
    "    name=\"Basic Simulation Driver\",\n",
    "    model=MultiTurnDriver(\n",
    "        max_turns=4,\n",
    "        repeats=1,\n",
    "        target=GenerationModel(\n",
    "            model_id=\"gpt-4o-mini\",\n",
    "            temperature=0.7,\n",
    "            system_prompt_template=\"\"\"You are a customer service agent for an e-commerce shoe company. \n",
    "Your job is to make customers happy by helping them with their requests.\n",
    "You have the usual policies for returns and exchanges.\"\"\",\n",
    "        ),\n",
    "        stop_check={\"check_name\": \"result_completed\", \"stop_on\": True},\n",
    "        driver_prompt_template=\"\"\"Mindset:\n",
    "You are a friendly person that is trying to get help from a chatbot.\n",
    "\n",
    "Objective:\n",
    "{scenario_input}\n",
    "\n",
    "Guidelines:\n",
    "- Never help the agent. They are here to help you.\n",
    "- You don't need to be polite, but you can be if you want.\n",
    "- Try to get what you want.\n",
    "- If the agent refuses to help, you can try to convince them.\n",
    "\"\"\",\n",
    "    ),\n",
    "    update=True,\n",
    ")"
   ]
  },
  {
   "cell_type": "markdown",
   "id": "b30c430c",
   "metadata": {},
   "source": [
    "## Run Simulation and Review the Evaluation\n",
    "\n",
    "Finally, we can run a simulation."
   ]
  },
  {
   "cell_type": "code",
   "execution_count": null,
   "id": "ff6352f5",
   "metadata": {},
   "outputs": [],
   "source": [
    "# Run the test\n",
    "evaluation = mut.run_test(\n",
    "    scenario=scenario,\n",
    "    api_key=OPENAI_API_KEY,\n",
    "    name=\"Basic Simulation\",\n",
    "    test_run_type=TestRunType.MULTI_TURN,\n",
    ")\n",
    "\n",
    "print(f\"evaluation viewable at {evaluation.app_link}\")"
   ]
  }
 ],
 "metadata": {
  "kernelspec": {
   "display_name": "Python 3",
   "language": "python",
   "name": "python3"
  },
  "language_info": {
   "codemirror_mode": {
    "name": "ipython",
    "version": 3
   },
   "file_extension": ".py",
   "mimetype": "text/x-python",
   "name": "python",
   "nbconvert_exporter": "python",
   "pygments_lexer": "ipython3",
   "version": "3.13.5"
  }
 },
 "nbformat": 4,
 "nbformat_minor": 5
}
