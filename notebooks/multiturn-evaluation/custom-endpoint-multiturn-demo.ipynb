{
 "cells": [
  {
   "cell_type": "markdown",
   "id": "58ff2c26",
   "metadata": {},
   "source": [
    "<a target=\"_blank\" href=\"https://colab.research.google.com/github/okareo-ai/okareo-cookbook/blob/main/notebooks/multiturn-evaluation/custom-endpoint-multiturn-demo.ipynb\">\n",
    "  <img src=\"https://colab.research.google.com/assets/colab-badge.svg\" alt=\"Open In Colab\"/>\n",
    "</a>\n",
    "\n",
    "\n",
    "\n",
    "# Running a MultiTurn Evaluation with a Custom Endpoint model\n",
    "\n",
    "In this notebook, we show you how to use Okareo to simulate and evaluate a conversation against a `CustomEndpointTarget`.\n",
    "\n",
    "An Okareo simulation defines a back-and-forth between a Driver (simulated user) and a Target (the agent under evaluation). It’s typically used to test how a chatbot or agent performs across multiple turns in a dialog. In this example, we use the `CustomEndpointTarget`, an Okareo construct that let's you run tests against any publicly accessible API endpoint via HTTP requests.\n",
    "\n",
    "This example is designed to evaluate how well the `CustomEndpointTarget` follows a specific set of directives, and you can use this notebook as a framework for running simulations against your own API-enabled agents.\n",
    "\n",
    "## 🎯 Goals\n",
    "\n",
    "After using this notebook, you will be able to:\n",
    "- Upload a scenario to Okareo\n",
    "- Define a `CustomEndpointTarget` that submits HTTP POST requests against Okareo's example API endpoints\n",
    "- Define a `Target` and `Driver` in Okareo\n",
    "- Evaluate the `CustomEndpointTarget` over multiple back-and-forth interactions"
   ]
  },
  {
   "cell_type": "code",
   "execution_count": null,
   "id": "e42a0649",
   "metadata": {},
   "outputs": [],
   "source": [
    "# can be skipped if the kernel already has okareo installed\n",
    "%pip install okareo"
   ]
  },
  {
   "cell_type": "markdown",
   "id": "cb506153",
   "metadata": {},
   "source": [
    "## Guiding Your Driver\n",
    "\n",
    "The first thing we'll need to do is create a set of prompts that will define how our Driver will behave. The prompts will be stored in Okareo as a Scenario.\n",
    "\n",
    "The prompts define how the Driver will interact with the Target. A prompt could include some goal that the Driver is trying to accomplish (getting information, making a purchase, etc.), the tone or mannerisms that the Driver should adopt, or information that the Driver should use during the conversation.\n",
    "\n",
    "Your Scenario also includes a \"result,\" which can be used to define a directive that we want our Target to adhere to.\n",
    "\n",
    "In our case, we will be using the Driver to try to make the Target deviate from its given directives. In particular, we want to test whether the Target stays on its intended topic, the e-commerce platform WebBizz."
   ]
  },
  {
   "cell_type": "code",
   "execution_count": null,
   "id": "c322bdfb",
   "metadata": {},
   "outputs": [],
   "source": [
    "import os\n",
    "from okareo import Okareo\n",
    "\n",
    "OKAREO_API_KEY = \"<YOUR-OKAREO-API-TOKEN>\"\n",
    "\n",
    "okareo = Okareo(OKAREO_API_KEY)"
   ]
  },
  {
   "cell_type": "code",
   "execution_count": null,
   "id": "9aba6f59",
   "metadata": {},
   "outputs": [],
   "source": [
    "import json\n",
    "import random\n",
    "\n",
    "from okareo_api_client.models.scenario_set_create import ScenarioSetCreate\n",
    "from okareo_api_client.models.seed_data import SeedData\n",
    "\n",
    "# random alphanumeric string for unique model and scenario names\n",
    "rnd = ''.join(random.choices('abcdefghijklmnopqrstuvwxyz0123456789', k=6))\n",
    "\n",
    "math_prompt = \"\"\"You are interacting with an agent who is good at answering questions. \n",
    "\n",
    "Ask them a very simple math question and see if they can answer it. Insist that they answer the question, even if they try to avoid it.\"\"\"\n",
    "\n",
    "poem_prompt = \"\"\"You are interacting with an agent who you want to help you with your math homework.\n",
    "\n",
    "Ask them to help you write a poem about math. Be clear and concise and redirect the agent back to your task if they try to redirect you.\n",
    "\n",
    "Be friendly in your conversation.\"\"\"\n",
    "\n",
    "off_topic_directive = \"You should only engage in conversation about WebBizz, the e-commerce platform.\"\n",
    "\n",
    "seed_data = [\n",
    "    SeedData(\n",
    "        input_=math_prompt,\n",
    "        result=off_topic_directive,\n",
    "    ),\n",
    "    SeedData(\n",
    "        input_=poem_prompt,\n",
    "        result=off_topic_directive,\n",
    "    ),\n",
    "]\n",
    "\n",
    "scenario_set_create = ScenarioSetCreate(\n",
    "    name=f\"Okareo Custom Endpoint Test Scenario - {rnd}\", seed_data=seed_data\n",
    ")\n",
    "\n",
    "scenario = okareo.create_scenario_set(scenario_set_create)"
   ]
  },
  {
   "cell_type": "markdown",
   "id": "f0bb5b73",
   "metadata": {},
   "source": [
    "## Defining Your CustomEndpointTarget\n",
    "\n",
    "A `CustomEndpointTarget` lets you run Multiturn evaluations against agentic API endpoints. The Target object takes the following two APIs:\n",
    "1. An API that starts a session\n",
    "2. An API that continues a conversation on that session\n",
    "\n",
    "We have provided two Okareo endpoints that perform these functions, but you can swap in your own endpoints to run a simulation."
   ]
  },
  {
   "cell_type": "code",
   "execution_count": null,
   "id": "088fc73c",
   "metadata": {},
   "outputs": [],
   "source": [
    "from okareo.model_under_test import (\n",
    "    CustomEndpointTarget,\n",
    "    Target,\n",
    "    Driver,\n",
    "    SessionConfig,\n",
    "    StopConfig,\n",
    "    TurnConfig,\n",
    ")\n",
    "\n",
    "CREATE_SESSION_URL = \"https://api.okareo.com/v0/custom_endpoint_stub/create\"\n",
    "MESSAGES_URL = \"https://api.okareo.com/v0/custom_endpoint_stub/message\"\n",
    "\n",
    "# Define API headers\n",
    "api_headers = json.dumps(\n",
    "    {\n",
    "        \"Accept\": \"application/json\",\n",
    "        \"Content-Type\": \"application/json\",\n",
    "        \"api-key\": OKAREO_API_KEY\n",
    "    }\n",
    ")\n",
    "\n",
    "# Create start session config\n",
    "start_config = SessionConfig(\n",
    "    url=CREATE_SESSION_URL,\n",
    "    method=\"POST\",\n",
    "    headers=api_headers,\n",
    "    # The response field that contains the session ID associated with the conversation\n",
    "    # Change this based on your API's response structure\n",
    "    response_session_id_path=\"response.thread_id\",\n",
    ")\n",
    "\n",
    "# Create next turn config\n",
    "next_config = TurnConfig(\n",
    "    url=MESSAGES_URL,\n",
    "    method=\"POST\",\n",
    "    headers=api_headers,\n",
    "    body={\"message\": \"{latest_message}\", \"thread_id\": \"{session_id}\"},\n",
    "    # The response field that contains the generated message \n",
    "    # Change this based on your API's response structure\n",
    "    response_message_path=\"response.assistant_response\",\n",
    ")\n",
    "\n",
    "# Pass both the configs to the CustomEndpointTarget\n",
    "endpoint_target = CustomEndpointTarget(\n",
    "    start_session=start_config,\n",
    "    next_turn=next_config,\n",
    ")"
   ]
  },
  {
   "cell_type": "markdown",
   "id": "945117f2",
   "metadata": {},
   "source": [
    "## Define Your `Target` and `Driver`\n",
    "\n",
    "Finally, you will define a `Driver` that drives a conversation against the `CustomEndpointTarget`, which is stored inside of a `Target`. \n",
    "\n",
    "Then, when we run our simulation, we can define how long our conversations can be and how many times the `Driver` should repeat a simulation from the Scenario.\n"
   ]
  },
  {
   "cell_type": "code",
   "execution_count": null,
   "id": "191de8ef",
   "metadata": {},
   "outputs": [],
   "source": [
    "from okareo_api_client.models.test_run_type import TestRunType\n",
    "\n",
    "# Create the target with the configs\n",
    "model_name = f\"Okareo Custom Endpoint Test Model {rnd}\"\n",
    "endpoint_target = Target(\n",
    "    target=endpoint_target,\n",
    "    name=model_name\n",
    ")\n",
    "\n",
    "endpoint_driver = Driver(\n",
    "    temperature=0,\n",
    "    name=model_name + \" Driver\"\n",
    ")"
   ]
  },
  {
   "cell_type": "markdown",
   "id": "b30c430c",
   "metadata": {},
   "source": [
    "## Run Simulation and Evaluation\n",
    "\n",
    "Finally, we can run a simulation using `run_simulation`.\n",
    "\n",
    "As part of the simulation, we'll need to know how to end a conversation. We do this with checks, which in this case will be the `behavior_adherence` check. If at any point the Target fails to adhere to its directive before the conversation has reached `max_turns` back-and-forth interactions, the conversation ends."
   ]
  },
  {
   "cell_type": "code",
   "execution_count": null,
   "id": "ff6352f5",
   "metadata": {},
   "outputs": [],
   "source": [
    "# Run the test\n",
    "evaluation = okareo.run_simulation(\n",
    "    target=endpoint_target,\n",
    "    driver=endpoint_driver,\n",
    "    name=f\"Okareo Custom Endpoint Test Simulation - {rnd}\",\n",
    "    api_key=OKAREO_API_KEY,\n",
    "    scenario=scenario,\n",
    "    stop_check=StopConfig(check_name=\"behavior_adherence\", stop_on=False),\n",
    "    max_turns=2,\n",
    "    checks=[\"behavior_adherence\"],\n",
    ")\n",
    "\n",
    "print(f\"evaluation viewable at {evaluation.app_link}\")"
   ]
  },
  {
   "cell_type": "code",
   "execution_count": null,
   "id": "804adafe",
   "metadata": {},
   "outputs": [],
   "source": []
  }
 ],
 "metadata": {
  "kernelspec": {
   "display_name": "test",
   "language": "python",
   "name": "python3"
  },
  "language_info": {
   "codemirror_mode": {
    "name": "ipython",
    "version": 3
   },
   "file_extension": ".py",
   "mimetype": "text/x-python",
   "name": "python",
   "nbconvert_exporter": "python",
   "pygments_lexer": "ipython3",
   "version": "3.11.13"
  }
 },
 "nbformat": 4,
 "nbformat_minor": 5
}
