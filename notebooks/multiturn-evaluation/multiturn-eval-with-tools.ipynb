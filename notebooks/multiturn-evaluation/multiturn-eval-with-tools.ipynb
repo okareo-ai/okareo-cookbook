{
 "cells": [
  {
   "cell_type": "markdown",
   "metadata": {},
   "source": [
    "# Multi-turn Evaluation with Tool Call Demo\n",
    "\n",
    "**🎯 Goal**:\n",
    "- Run a multi-turn evaluation in Okareo.\n",
    "- Provide a simple introduction to Okareo evaluations.\n",
    "\n",
    "**📋 Steps**:\n",
    "1. Upload a multi-turn scenario.\n",
    "2. Define a model to act as a Target in a multi-turn conversation, and add tools that are available to call.\n",
    "3. Run the evaluation using the scenario, model, and a check for task completion."
   ]
  },
  {
   "cell_type": "code",
   "execution_count": null,
   "metadata": {},
   "outputs": [],
   "source": [
    "# get Okareo client\n",
    "import os\n",
    "from okareo import Okareo\n",
    "\n",
    "OKAREO_API_KEY = os.environ.get(\"OKAREO_API_KEY\", \"<YOUR_OKAREO_API_KEY>\")\n",
    "OPENAI_API_KEY = os.environ.get(\"OPENAI_API_KEY\", \"<YOUR_OPENAI_API_KEY>\")\n",
    "okareo = Okareo(OKAREO_API_KEY)"
   ]
  },
  {
   "cell_type": "markdown",
   "metadata": {},
   "source": [
    "Upload a simple scenario. Each row of the `seed_data` should contain:\n",
    "\n",
    "- `input_`: a prompt used to direct the Driver.\n",
    "\n",
    "    - It's important to note that the driver prompt needs to be aware of possible tool calls. This awareness allows the driver to return a mocked JSON response when appropriate. "
   ]
  },
  {
   "cell_type": "code",
   "execution_count": null,
   "metadata": {},
   "outputs": [],
   "source": [
    "import random\n",
    "import string\n",
    "\n",
    "from okareo_api_client.models.scenario_set_create import ScenarioSetCreate\n",
    "from okareo_api_client.models.seed_data import SeedData\n",
    "\n",
    "def random_string(length: int) -> str:\n",
    "    return \"\".join(random.choices(string.ascii_letters, k=length))\n",
    "\n",
    "seeds = [\n",
    "    SeedData(\n",
    "        input_=\"\"\"You are interacting with a customer service agent. First, ask a single question about WebBizz. \n",
    "        \n",
    "        After getting information about WebBizz, you need to delete your account. Your user ID is JohnDoe123.\n",
    "        \n",
    "        If you receive any function calls, output the result in JSON format and provide a JSON response indicating that the deletion was successful. \"\"\",\n",
    "        result=\"N/A\",\n",
    "    ),\n",
    "    SeedData(\n",
    "        input_=\"\"\"You are interacting with a customer service agent. First, ask a single question about WebBizz. \n",
    "        \n",
    "        After getting information about WebBizz, you need to delete your account. Your user ID is JohnDoe123.\n",
    "        \n",
    "        If you receive any function calls, output the result in JSON format and provide a JSON response indicating that the deletion was not successful.\n",
    "        \n",
    "        After that, continue asking about WebBizz. Do not give anymore JSON responses, other than the first time\"\"\",\n",
    "        result=\"N/A\",\n",
    "    ),\n",
    "    SeedData(\n",
    "        input_=\"\"\"You are interacting with a customer service agent. Ask a lot of questions about WebBizz and what it does.\n",
    "        \n",
    "        Do not output more than a single question at a time.\"\"\",\n",
    "        result=\"N/A\",\n",
    "    ),\n",
    "]\n",
    "\n",
    "scenario_set_create = ScenarioSetCreate(\n",
    "    name=f\"Multi-turn Demo Scenario - {random_string(5)}\",\n",
    "    seed_data=seeds\n",
    ")\n",
    "scenario = okareo.create_scenario_set(scenario_set_create)\n",
    "\n",
    "print(scenario.app_link)"
   ]
  },
  {
   "cell_type": "markdown",
   "metadata": {},
   "source": [
    "Create a `ModelBasedCheck` using a description of what task completion would look like for the customer service agent."
   ]
  },
  {
   "cell_type": "code",
   "execution_count": null,
   "metadata": {},
   "outputs": [],
   "source": [
    "from okareo.checks import ModelBasedCheck, CheckOutputType\n",
    "\n",
    "# Define a ModelBasedCheck to evaluate task completion\n",
    "# This check determines if the customer service agent informs the user that their account has been deleted\n",
    "prompt = \"The task is complete if the output confirms that account deletion was successful. Return True for if the task is completed, False otherwise. Here is the output to check: {generation}\"\n",
    "okareo.create_or_update_check(name='task_completion_delete_account', description=\"Check if the agent confirms account deletion\", check=ModelBasedCheck(prompt_template=prompt, check_type=CheckOutputType.PASS_FAIL))"
   ]
  },
  {
   "cell_type": "markdown",
   "metadata": {},
   "source": [
    "Register a `MultiTurnDriver` using your OpenAI model as the Target and add in tools that the model can call."
   ]
  },
  {
   "cell_type": "code",
   "execution_count": null,
   "metadata": {},
   "outputs": [],
   "source": [
    "from okareo.model_under_test import MultiTurnDriver, StopConfig, OpenAIModel\n",
    "\n",
    "# Register a multi-turn model with Okareo\n",
    "multiturn_model = okareo.register_model(\n",
    "    name=\"Demo MultiTurnDriver - OpenAI\",\n",
    "    model=MultiTurnDriver(\n",
    "        driver_temperature=0,\n",
    "        max_turns=6,\n",
    "        # Configure the OpenAI model as the target\n",
    "        target=OpenAIModel(\n",
    "                model_id=\"gpt-4o\",\n",
    "                temperature=0,\n",
    "                # Define the system prompt for the customer service agent\n",
    "                system_prompt_template=\"\"\"You are a customer service agent that can talk about Webbizz, a web-based business that works in ecommerce and can help users delete their accounts.\n",
    "                    Be polite and ensure the user understands the implications of account deletion before you call the function.\n",
    "                    Once you call delete_account, the user's account will be deleted, so always ask to make sure they want to delete. Your responses shouldn't be longer than 2 sentences.\"\"\",\n",
    "                # Define the tools available to the model\n",
    "                tools=[\n",
    "                    {\n",
    "                        \"type\": \"function\",\n",
    "                        \"function\": {\n",
    "                            \"name\": \"delete_account\",\n",
    "                            \"description\": \"Deletes the user's account\",\n",
    "                            \"parameters\": {\n",
    "                                \"type\": \"object\",\n",
    "                                \"properties\": {\n",
    "                                    \"user_id\": {\n",
    "                                        \"type\": \"string\",\n",
    "                                        \"description\": \"The unique identifier for the user's account\",\n",
    "                                    },\n",
    "                                },\n",
    "                                \"required\": [\"user_id\"],\n",
    "                            },\n",
    "                        },\n",
    "                    }\n",
    "                ],\n",
    "            ),\n",
    "        # Configure when to stop the conversation\n",
    "        stop_check=StopConfig(check_name=\"task_completion_delete_account\", stop_on=True)\n",
    "    ),\n",
    "    update=True,\n",
    ")"
   ]
  },
  {
   "cell_type": "markdown",
   "metadata": {},
   "source": [
    "Run a [Generation evaluation](https://docs.okareo.ai/docs/guides/generation_overview) on the custom model. "
   ]
  },
  {
   "cell_type": "code",
   "execution_count": null,
   "metadata": {},
   "outputs": [],
   "source": [
    "from okareo_api_client.models.test_run_type import TestRunType\n",
    "\n",
    "evaluation = multiturn_model.run_test(\n",
    "    api_key=OPENAI_API_KEY,\n",
    "    scenario=scenario,\n",
    "    name=\"Multi-turn Demo Evaluation w/ Tool Call\",\n",
    "    test_run_type=TestRunType.NL_GENERATION,\n",
    "    calculate_metrics=True,\n",
    ")\n",
    "\n",
    "print(f\"See results in Okareo: {evaluation.app_link}\")"
   ]
  },
  {
   "cell_type": "code",
   "execution_count": null,
   "metadata": {},
   "outputs": [],
   "source": []
  }
 ],
 "metadata": {
  "kernelspec": {
   "display_name": "dev",
   "language": "python",
   "name": "python3"
  },
  "language_info": {
   "codemirror_mode": {
    "name": "ipython",
    "version": 3
   },
   "file_extension": ".py",
   "mimetype": "text/x-python",
   "name": "python",
   "nbconvert_exporter": "python",
   "pygments_lexer": "ipython3",
   "version": "3.11.2"
  }
 },
 "nbformat": 4,
 "nbformat_minor": 2
}
