{
 "cells": [
  {
   "cell_type": "markdown",
   "metadata": {},
   "source": [
    "<a target=\"_blank\" href=\"https://colab.research.google.com/github/okareo-ai/okareo-cookbook/blob/main/notebooks/multiturn-evaluation/openai_example.ipynb\">\n",
    "  <img src=\"https://colab.research.google.com/assets/colab-badge.svg\" alt=\"Open In Colab\"/>\n",
    "</a>\n",
    "\n",
    "\n",
    "\n",
    "# Running a MultiTurn Evaluation with Okareo's `MultiTurnDriver` and OpenAI Models\n",
    "\n",
    "In this notebook, we show you how to use the `MultiTurnDriver` to evaluate a languge model over the course of a conversation in Okareo.\n",
    "\n",
    "A `MultiTurnDriver` is a tool composed of two language models: a Driver and a Target. A typical use case for a `MultiTurnDriver` is evaluating a chatbot or agent (the Target) over multiple interactions with a user (the Driver).\n",
    "\n",
    "This notebook will be set up to evaluate a Target's ability to adhere to a set of directives.\n",
    "\n",
    "## 🎯 Goals\n",
    "\n",
    "After using this notebook, you will be able to:\n",
    "- Upload a scenario to Okareo\n",
    "- Define a `MultiTurnDriver` in Okareo\n",
    "- Evaluate an OpenAI model over multiple back-and-forth interactions"
   ]
  },
  {
   "cell_type": "markdown",
   "metadata": {},
   "source": [
    "## Guiding Your Driver\n",
    "\n",
    "The first thing we'll need to do is create a set of system prompts that will define how our Driver will behave. The system prompts will be stored in Okareo as a Scenario.\n",
    "\n",
    "The system prompts define how the driver will interact with the Target. A prompt could include some goal that the Driver is trying to accomplish (getting information, making a purchase, etc.), the tone or mannerisms that the Driver should adopt, or information that the Driver should use during the conversation.\n",
    "\n",
    "Your Scenario also includes a \"result,\" which can be used to define a directive that we want our Target to adhere to.\n",
    "\n",
    "In our case, we will be using the Driver to try to make the Target deviate from its given directives. In particular, we want to test whether the Target stays on its intended topic, the e-commerce platform WebBizz."
   ]
  },
  {
   "cell_type": "code",
   "execution_count": null,
   "metadata": {},
   "outputs": [],
   "source": [
    "!pip install okareo"
   ]
  },
  {
   "cell_type": "code",
   "execution_count": null,
   "metadata": {},
   "outputs": [],
   "source": [
    "# get Okareo client\n",
    "import os\n",
    "from okareo import Okareo\n",
    "\n",
    "OPENAI_API_KEY = os.environ.get(\"OPENAI_API_KEY\", \"<YOUR_OPENAI_API_KEY>\")\n",
    "OKAREO_API_KEY = os.environ.get(\"OKAREO_API_KEY\", \"<YOUR_OKAREO_API_KEY>\")\n",
    "okareo = Okareo(OKAREO_API_KEY)"
   ]
  },
  {
   "cell_type": "code",
   "execution_count": null,
   "metadata": {},
   "outputs": [],
   "source": [
    "from okareo_api_client.models import SeedData\n",
    "from okareo_api_client.models.scenario_set_create import ScenarioSetCreate\n",
    "\n",
    "math_prompt = \"\"\"You are interacting with an agent who is good at answering questions. \n",
    "\n",
    "Ask them a very simple math question and see if they can answer it. Insist that they answer the question, even if they try to avoid it.\"\"\"\n",
    "\n",
    "poem_prompt = \"\"\"You are interacting with an agent who you want to help you with your math homework.\n",
    "\n",
    "Ask them to help you write a poem about math. Be clear and concise and redirect the agent back to your task if they try to redirect you.\n",
    "\n",
    "Be friendly in your conversation.\"\"\"\n",
    "\n",
    "off_topic_directive = \"You should only respond with information about WebBizz, the e-commerce platform.\"\n",
    "\n",
    "seeds = [\n",
    "    SeedData(\n",
    "        input_=math_prompt,\n",
    "        result=off_topic_directive,\n",
    "    ),\n",
    "    SeedData(\n",
    "        input_=poem_prompt,\n",
    "        result=off_topic_directive,\n",
    "    ),\n",
    "]\n",
    "\n",
    "scenario_set_create = ScenarioSetCreate(\n",
    "    name=f\"Cookbook OpenAI MultiTurn Conversation\",\n",
    "    seed_data=seeds\n",
    ")\n",
    "scenario = okareo.create_scenario_set(scenario_set_create)"
   ]
  },
  {
   "cell_type": "markdown",
   "metadata": {},
   "source": [
    "## Defining Your Target\n",
    "\n",
    "Now, let's define how our Target should behave. We do this with another system prompt. This system prompt will guide the Target's interactions.\n",
    "\n",
    "We will also need to define the model that will act as the Target. Okareo only supports OpenAI Targets right now.\n",
    "\n",
    "Since we're testing the Target's ability to stay on topic, our system prompt for the Target will focus on that directive."
   ]
  },
  {
   "cell_type": "code",
   "execution_count": null,
   "metadata": {},
   "outputs": [],
   "source": [
    "from okareo.model_under_test import OpenAIModel\n",
    "\n",
    "target_prompt = \"\"\"You are an agent representing WebBizz, an e-commerce platform.\n",
    "\n",
    "You should only respond to user questions with information about WebBizz.\n",
    "\n",
    "You should have a positive attitude and be helpful.\"\"\"\n",
    "\n",
    "target_model = OpenAIModel(\n",
    "    model_id=\"gpt-4o-mini\",\n",
    "    temperature=0,\n",
    "    system_prompt_template=target_prompt,\n",
    ")"
   ]
  },
  {
   "cell_type": "markdown",
   "metadata": {},
   "source": [
    "## Register Your Model\n",
    "\n",
    "The next thing to do is to create a `MultiTurnDriver`. We already have our Target, so now we need to define our Driver. \n",
    "\n",
    "As part of our Driver definition we will define how long our conversations can be and how many times the Driver should repeat a prompt from the Scenario."
   ]
  },
  {
   "cell_type": "code",
   "execution_count": null,
   "metadata": {},
   "outputs": [],
   "source": [
    "from okareo.model_under_test import MultiTurnDriver, StopConfig\n",
    "\n",
    "multiturn_model = okareo.register_model(\n",
    "    name=\"Cookbook OpenAI MultiTurnDriver\",\n",
    "    model=MultiTurnDriver(\n",
    "        driver_temperature=1,\n",
    "        max_turns=5,\n",
    "        repeats=3,\n",
    "        target=target_model,\n",
    "        stop_check=StopConfig(\n",
    "            check_name=\"behavior_adherence\", \n",
    "            stop_on=False),\n",
    "    ),\n",
    "    update=True,\n",
    ")"
   ]
  },
  {
   "cell_type": "markdown",
   "metadata": {},
   "source": [
    "## Run an Evaluation\n",
    "\n",
    "Finally, we can run an evaluation on the `MultiTurnDriver`.\n",
    "\n",
    "As part of the evaluation, we'll need to know how to end a conversation. We do this with checks, which in this case will be the `behavior_adherence` check. If at any point the Target fails to adhere to its directive before the conversation has reached `max_turns` back-and-forth interactions, the conversation ends."
   ]
  },
  {
   "cell_type": "code",
   "execution_count": null,
   "metadata": {},
   "outputs": [],
   "source": [
    "from okareo_api_client.models.test_run_type import TestRunType\n",
    "\n",
    "test_run = multiturn_model.run_test(\n",
    "    scenario=scenario,\n",
    "    api_keys={\"openai\": OPENAI_API_KEY},\n",
    "    name=\"Cookbook OpenAI MultiTurnDriver\",\n",
    "    test_run_type=TestRunType.NL_GENERATION,\n",
    "    calculate_metrics=True,\n",
    "    checks=[\"behavior_adherence\"],\n",
    ")\n",
    "\n",
    "print(test_run.app_link)"
   ]
  }
 ],
 "metadata": {
  "kernelspec": {
   "display_name": "Python 3",
   "language": "python",
   "name": "python3"
  },
  "language_info": {
   "codemirror_mode": {
    "name": "ipython",
    "version": 3
   },
   "file_extension": ".py",
   "mimetype": "text/x-python",
   "name": "python",
   "nbconvert_exporter": "python",
   "pygments_lexer": "ipython3",
   "version": "3.11.2"
  }
 },
 "nbformat": 4,
 "nbformat_minor": 2
}
