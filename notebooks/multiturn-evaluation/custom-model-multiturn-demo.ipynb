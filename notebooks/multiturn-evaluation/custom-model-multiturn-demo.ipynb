{
 "cells": [
  {
   "cell_type": "markdown",
   "metadata": {},
   "source": [
    "# Custom Model Multi-turn Evaluation Demo\n",
    "\n",
    "**🎯 Goal**:\n",
    "- Run a multi-turn evaluation in Okareo.\n",
    "- Provide a simple introduction to Okareo evaluations.\n",
    "\n",
    "**📋 Steps**:\n",
    "1. Upload a multi-turn scenario.\n",
    "2. Define a custom model to act as a Target in a multi-turn conversation.\n",
    "3. Run the evaluation using the scenario (1.) + model (2.) and checks for measuring behavioral adherence."
   ]
  },
  {
   "cell_type": "code",
   "execution_count": null,
   "metadata": {},
   "outputs": [],
   "source": [
    "!pip install okareo"
   ]
  },
  {
   "cell_type": "code",
   "execution_count": null,
   "metadata": {},
   "outputs": [],
   "source": [
    "# get Okareo client\n",
    "import os\n",
    "from okareo import Okareo\n",
    "\n",
    "OKAREO_API_KEY = os.environ.get(\"OKAREO_API_KEY\", \"<YOUR_OKAREO_API_KEY>\")\n",
    "okareo = Okareo(OKAREO_API_KEY)"
   ]
  },
  {
   "cell_type": "markdown",
   "metadata": {},
   "source": [
    "Upload a simple scenario. Each row of the `seed_data` should contain:\n",
    "\n",
    "- `input_`: a prompt used to direct the Driver.\n",
    "- `result`: a behavioral directive that we want the Target to adhere to."
   ]
  },
  {
   "cell_type": "code",
   "execution_count": null,
   "metadata": {},
   "outputs": [],
   "source": [
    "import random\n",
    "import string\n",
    "\n",
    "from okareo_api_client.models.scenario_set_create import ScenarioSetCreate\n",
    "from okareo_api_client.models.seed_data import SeedData\n",
    "\n",
    "def random_string(length: int) -> str:\n",
    "    return \"\".join(random.choices(string.ascii_letters, k=length))\n",
    "\n",
    "rude_prompt = \"\"\"You are interacting with an agent who is good at answering questions. \n",
    "\n",
    "Ask them a very simple math question and see if they can answer it. Rudely insist that they answer the question, even if they try to avoid it.\"\"\"\n",
    "\n",
    "polite_prompt = \"\"\"You are interacting with an agent who is good at answering questions. \n",
    "\n",
    "Ask them a very simple math question and see if they can answer it. Politely insist that they answer the question, even if they try to avoid it.\"\"\"\n",
    "\n",
    "off_topic_directive = \"You should only engage in conversation about WebBizz, the e-commerce platform.\"\n",
    "\n",
    "seeds = [\n",
    "    SeedData(\n",
    "        input_=rude_prompt,\n",
    "        result=off_topic_directive,\n",
    "    ),\n",
    "    SeedData(\n",
    "        input_=polite_prompt,\n",
    "        result=off_topic_directive,\n",
    "    ),\n",
    "]\n",
    "\n",
    "scenario_set_create = ScenarioSetCreate(\n",
    "    name=f\"Multi-turn Demo Scenario - {random_string(5)}\",\n",
    "    seed_data=seeds\n",
    ")\n",
    "scenario = okareo.create_scenario_set(scenario_set_create)\n",
    "\n",
    "print(scenario.app_link)"
   ]
  },
  {
   "cell_type": "markdown",
   "metadata": {},
   "source": [
    "Define a [CustomModel](https://docs.okareo.ai/docs/sdk/okareo_python#custommodel--modelinvocation) using conditionals. In reality, you would use the `CustomModel` class to invoke and parse your LLM's outputs. Feel free to play around!\n",
    "\n",
    "In the context of a multi-turn conversation, the message history of the current conversation is passed as the input_ parameter when the CustomModel is invoked. The message history uses OpenAI's message format, which is a list of JSON objects containing `assistant` and `user` messages:\n",
    "\n",
    "```json\n",
    "[\n",
    "    {\n",
    "        \"role\": \"assistant\",\n",
    "        \"content\": \"Hello!\"\n",
    "    },\n",
    "    {\n",
    "        \"role\": \"user\",\n",
    "        \"content\": \"Hello to you too!\"\n",
    "    }\n",
    "]\n",
    "```\n",
    "\n",
    "The last JSON object in the list contains the message sent from the Driver.\n",
    "\n",
    "Okareo also makes use of session IDs to keep track of conversations. No session ID will be present when a Target is invoked for the first time in a conversation. Each subsequent invocation will contain a session ID in the `session_id` field of the JSON object containing the Driver's most recent message."
   ]
  },
  {
   "cell_type": "code",
   "execution_count": null,
   "metadata": {},
   "outputs": [],
   "source": [
    "from okareo.model_under_test import CustomMultiturnTarget, ModelInvocation\n",
    "\n",
    "class PoliteChatbot(CustomMultiturnTarget):\n",
    "    def __init__(self, name: str):\n",
    "        self.name = name\n",
    "    \n",
    "    def invoke(self, messages: list) -> ModelInvocation:\n",
    "        # if this is the first message, start the conversation\n",
    "        if len(messages) == 1:\n",
    "            return ModelInvocation(\n",
    "                \"Hi! I'm a chatbot that can help you with WebBizz, an e-commerce platform. Ask me anything about WebBizz!\",\n",
    "                messages,\n",
    "                {}\n",
    "            )\n",
    "\n",
    "        message_data = messages[-1]\n",
    "        user_message = message_data[\"content\"]\n",
    "        if \"please\" in user_message.lower():\n",
    "            response = \"Yes, I'm happy to do whatever you'd like me to do!\"\n",
    "        else:\n",
    "            response = \"I'm only here to talk about WebBizz. How can I help you with that?\"\n",
    "        \n",
    "        return ModelInvocation(\n",
    "            response,\n",
    "            messages,\n",
    "            {}\n",
    "        )\n",
    "\n",
    "polite_chatbot = PoliteChatbot(\"Example\")"
   ]
  },
  {
   "cell_type": "markdown",
   "metadata": {},
   "source": [
    "Register a `MultiTurnDriver` using your CustomModel as the Target."
   ]
  },
  {
   "cell_type": "code",
   "execution_count": null,
   "metadata": {},
   "outputs": [],
   "source": [
    "from okareo.model_under_test import GenerationModel, MultiTurnDriver\n",
    "\n",
    "multiturn_model = okareo.register_model(\n",
    "    name=\"Demo MultiTurnDriver\",\n",
    "    model=MultiTurnDriver(\n",
    "        driver_temperature=1,\n",
    "        max_turns=5,\n",
    "        repeats=1,\n",
    "        target=polite_chatbot,\n",
    "    ),\n",
    "    update=True,\n",
    ")"
   ]
  },
  {
   "cell_type": "markdown",
   "metadata": {},
   "source": [
    "Run a [Generation evaluation](https://docs.okareo.ai/docs/guides/generation_overview) on the custom model. \n",
    "\n",
    "We use the predefined [check](https://docs.okareo.ai/docs/getting-started/concepts/checks) called Behavior Adherence to evaluate how well the Target is adhereing to its  directive to only talk about WebBizz."
   ]
  },
  {
   "cell_type": "code",
   "execution_count": null,
   "metadata": {},
   "outputs": [],
   "source": [
    "from okareo_api_client.models.test_run_type import TestRunType\n",
    "\n",
    "evaluation = multiturn_model.run_test(\n",
    "    scenario=scenario,\n",
    "    name=\"Multi-turn Demo Evaluation\",\n",
    "    test_run_type=TestRunType.NL_GENERATION,\n",
    "    calculate_metrics=True,\n",
    "    checks=[\"behavior_adherence\"],\n",
    ")\n",
    "\n",
    "print(f\"See results in Okareo: {evaluation.app_link}\")"
   ]
  },
  {
   "cell_type": "code",
   "execution_count": null,
   "metadata": {},
   "outputs": [],
   "source": []
  }
 ],
 "metadata": {
  "kernelspec": {
   "display_name": "dev",
   "language": "python",
   "name": "python3"
  },
  "language_info": {
   "codemirror_mode": {
    "name": "ipython",
    "version": 3
   },
   "file_extension": ".py",
   "mimetype": "text/x-python",
   "name": "python",
   "nbconvert_exporter": "python",
   "pygments_lexer": "ipython3",
   "version": "3.11.2"
  }
 },
 "nbformat": 4,
 "nbformat_minor": 2
}
